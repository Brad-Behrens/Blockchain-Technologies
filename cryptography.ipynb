{
 "cells": [
  {
   "cell_type": "code",
   "execution_count": 1,
   "metadata": {},
   "outputs": [
    {
     "name": "stdout",
     "output_type": "stream",
     "text": [
      "Hash value: b4056df6691f8dc72e56302ddad345d65fead3ead9299609a826e2344eb63aa4\n",
      "Hash value: a13bebeb57e1ea699bd4d2d9ac7e58399644e884b8a8783d96f6d146083f2430\n",
      "Hash value: 6ec60fe39028887e7fe9c4b025545748953c27515073bf9ad17ceb5417a407d7\n",
      "Hash value: b4056df6691f8dc72e56302ddad345d65fead3ead9299609a826e2344eb63aa4\n"
     ]
    }
   ],
   "source": [
    "# 1 - Cryptographic Hash Functions\n",
    "\n",
    "import hashlib\n",
    "\n",
    "def sha256_hash(message):\n",
    "    return hashlib.sha256(message.encode()).hexdigest()\n",
    "\n",
    "messages = ['Bitcoin', 'Ethereum', 'Cryptocurrency', 'Bitcoin']\n",
    "\n",
    "for message in messages:\n",
    "    print('Hash value: ' + sha256_hash(message))"
   ]
  },
  {
   "cell_type": "code",
   "execution_count": 2,
   "metadata": {},
   "outputs": [
    {
     "name": "stdout",
     "output_type": "stream",
     "text": [
      "PublicKey(80960142864237566438124470770027183543454043268165312099164189276737352154321, 65537)\n",
      "\n",
      "\n",
      "PrivateKey(80960142864237566438124470770027183543454043268165312099164189276737352154321, 65537, 76002743939749333010958236410808435472847961801985624814508049806279716956161, 77097800521210034463999713619039841874929, 1050096660565108859065408784016193249)\n",
      "\n",
      "\n",
      "Encrypted Message: b'\\x07\\xe1\\x8d\\xf5\\x03\\xcdI\\xc3A\\x19\\xdb\\xc7k\\x98\\xfbr\\xe3\\xed\\xfb\\x0c!.\\xd3.\\x1ay\\xbb,\\x94}\\x041'\n",
      "\n",
      "\n",
      "Decrypted Message: Secret message\n"
     ]
    }
   ],
   "source": [
    "# 2 - Public Key cryptography\n",
    "\n",
    "import hashlib\n",
    "import rsa\n",
    "\n",
    "# Secret Message\n",
    "message = 'Secret message'.encode('utf-8')\n",
    "\n",
    "# Generate Public and Private keys 256-bits\n",
    "(publicKey, privateKey) = rsa.newkeys(256)\n",
    "\n",
    "# Use public Key to encrypt secret message\n",
    "encrypted_message = rsa.encrypt(message, publicKey)\n",
    "\n",
    "# Use private Key to decode secret message\n",
    "decrypted_message = rsa.decrypt(encrypted_message, privateKey)\n",
    "\n",
    "print(publicKey)\n",
    "print('\\n')\n",
    "print(privateKey)\n",
    "print('\\n')\n",
    "print('Encrypted Message: ' + str(encrypted_message))\n",
    "print('\\n')\n",
    "print('Decrypted Message: ' + decrypted_message.decode('utf-8'))"
   ]
  },
  {
   "cell_type": "code",
   "execution_count": 3,
   "metadata": {},
   "outputs": [
    {
     "name": "stdout",
     "output_type": "stream",
     "text": [
      "Private Key: b'\\xe9\\xacxf\\x01\\xc3\\xd3\\x83\\x17\\x8f\\xb4v\\xb5*\\xc5\\x81\\xa4\\xcb\\xf7Y\\x00=Y\\x00nK\\xb4\\xef,\\x8b\\xd1\\xcb'\n",
      "Public Key: b'\\xae?l\\xee\\xf5QM\\xe8\\x95\\xe1\\xa6j\"\\x18\\x88\\x0f\\xaf)\\xa2)Q\\x80\\xcf\\x8e\\xd9!\\xcd\\xb3\\x90\\xa6\\xb7h\\xa9H\\x15\\x94\\xb1E\\xf5y\\x06w\\xc7\\ruK\\xa5\\xa9* \\xe3\\x9f\\xd3\\xe7\\xcd%\\x87\\xa4\"rS\\x96\\xc9\\xe9'\n",
      "\n",
      "\n",
      "Original message: Secret message\n",
      "SHA256 Hash Message: 855d8cdcc4bcee2872fd9638558ef65762c4a4499f1beafa8d6241413a3f85d9\n",
      "\n",
      "\n",
      "Digital Signature: b'\\xf9\\xb3\\x16\\x05y\\xb9\\xab~\\x9c?\\x9d\\x81%\\x1f\\x98\\x9b\\xd62\\x97\\x85P\\x8c\\x91\\xd7J\\xe3\\xd8\\x89.\\xdf\\xd7\\xe7Z\\xdbo\\xaeP\\x91\\xa32\\xf6\\xd4z\\x8e\\xc5\\xac\\x120=\\xde\\xf0\\xday\\xa38E\\x1bF\\x8cP\\xd0{\\xab\\xef'\n",
      "\n",
      "\n",
      "Message origin verifed by digital signature\n"
     ]
    }
   ],
   "source": [
    "# 3 - Digital Signatures\n",
    "\n",
    "import hashlib\n",
    "from ecdsa import SigningKey, VerifyingKey, SECP256k1\n",
    "\n",
    "# Generate private and public key\n",
    "privateKey = SigningKey.generate(curve=SECP256k1)\n",
    "publicKey = privateKey.verifying_key\n",
    "print('Private Key: ' + str(privateKey.to_string()))\n",
    "print('Public Key: ' + str(publicKey.to_string()))\n",
    "print('\\n')\n",
    "\n",
    "\n",
    "# Hash of a secret message\n",
    "message = 'Secret message'\n",
    "print('Original message: ' + message)\n",
    "\n",
    "def sha256_hash(message):\n",
    "    return hashlib.sha256(message.encode()).hexdigest()\n",
    "\n",
    "hash_message = sha256_hash(message)\n",
    "print('SHA256 Hash Message: ' + hash_message)\n",
    "print('\\n')\n",
    "\n",
    "# Digital Signature of Hash Message\n",
    "digital_signature = privateKey.sign(hash_message.encode())\n",
    "print('Digital Signature: ' + str(digital_signature))\n",
    "print('\\n')\n",
    "\n",
    "# Verify digital signature\n",
    "verified = publicKey.verify(digital_signature, hash_message.encode())\n",
    "\n",
    "if(verified == True):\n",
    "    print('Message origin verifed by digital signature')\n",
    "else:\n",
    "    print('Message not from public/private key pair')"
   ]
  },
  {
   "cell_type": "code",
   "execution_count": 58,
   "metadata": {},
   "outputs": [
    {
     "name": "stdout",
     "output_type": "stream",
     "text": [
      "OrderedDict([('sender_address', '3EWfWvxQFkTR57NSo16n14RiCLjEPoXcLS'), ('recipient_address', '1DK4kz222AWwP97xKYJuxGBLCuT2FvYcwM'), ('value', '1.7'), ('timestamp', 1591869367.692438), ('digital_signature', None), ('transaction_hash', None)])\n",
      "\n",
      "\n",
      "OrderedDict([('sender_address', '3EWfWvxQFkTR57NSo16n14RiCLjEPoXcLS'), ('recipient_address', '1DK4kz222AWwP97xKYJuxGBLCuT2FvYcwM'), ('value', '1.7'), ('timestamp', 1591869367.692438), ('digital_signature', b'\\xd1f\\xb9\\xa4\\x94t\\xc1V\\xb6Pa\\xc2\\xd9T\\x8e\\xc1N-G\\xf5\\n\\xfa\\x97\\xce1$\\x9c\\xa8\\xd7\\x17\\xb93\\xb8@\\xbfB3\\x93\\xad\\xaeT\\xf3FB\\xed\\x7f1\\x0f\\x8d\\xd2\\r<\\x02\\xf9\\x02Z\\xd5\\xca\\x86\\xc9c\\x03\\x8d#'), ('transaction_hash', 'a55ec44245142e4bf45156285856cd30c25be29479d7ce1a9f161a9d0f9af78a')])\n"
     ]
    }
   ],
   "source": [
    "# 4 - Transactions\n",
    "\n",
    "import hashlib\n",
    "import collections\n",
    "from datetime import datetime\n",
    "from ecdsa import SigningKey, VerifyingKey, SECP256k1\n",
    "\n",
    "class Transaction:\n",
    "    \n",
    "    def __init__(self, sender_address, recipient_address, value):\n",
    "        self.sender_address = sender_address\n",
    "        self.recipient_address = recipient_address\n",
    "        self.value = value\n",
    "        self.timestamp = datetime.timestamp(datetime.now())\n",
    "        self.digital_signature = None\n",
    "        self.transaction_hash = None\n",
    "        \n",
    "    def to_dict(self):\n",
    "        return collections.OrderedDict({'sender_address': self.sender_address,\n",
    "                            'recipient_address': self.recipient_address,\n",
    "                            'value': self.value,\n",
    "                            'timestamp': self.timestamp,\n",
    "                            'digital_signature': self.digital_signature,\n",
    "                            'transaction_hash': self.transaction_hash})\n",
    "    \n",
    "    def sign_transaction(self, privateKey):\n",
    "        message = str(self.to_dict())\n",
    "        self.transaction_hash = hashlib.sha256(message.encode()).hexdigest()\n",
    "        self.digital_signature = privateKey.sign(self.transaction_hash.encode())\n",
    "\n",
    "        \n",
    "# Generate Public & Private Key\n",
    "priv_Key = SigningKey.generate(curve=SECP256k1)\n",
    "pub_Key = privateKey.verifying_key\n",
    "\n",
    "# Define transaction arguments\n",
    "sender = '3EWfWvxQFkTR57NSo16n14RiCLjEPoXcLS'\n",
    "recipient = '1DK4kz222AWwP97xKYJuxGBLCuT2FvYcwM'\n",
    "value = '1.7'\n",
    "\n",
    "# Create transaction\n",
    "transaction_1 = Transaction(sender, recipient, value)\n",
    "print(transaction_1.to_dict())\n",
    "\n",
    "print('\\n')\n",
    "\n",
    "# Sign transaction\n",
    "transaction_1.sign_transaction(priv_Key)\n",
    "print(transaction_1.to_dict())"
   ]
  },
  {
   "cell_type": "code",
   "execution_count": null,
   "metadata": {},
   "outputs": [],
   "source": []
  }
 ],
 "metadata": {
  "kernelspec": {
   "display_name": "Python 3",
   "language": "python",
   "name": "python3"
  },
  "language_info": {
   "codemirror_mode": {
    "name": "ipython",
    "version": 3
   },
   "file_extension": ".py",
   "mimetype": "text/x-python",
   "name": "python",
   "nbconvert_exporter": "python",
   "pygments_lexer": "ipython3",
   "version": "3.7.3"
  }
 },
 "nbformat": 4,
 "nbformat_minor": 2
}
